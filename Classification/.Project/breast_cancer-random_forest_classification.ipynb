{
 "cells": [
  {
   "cell_type": "markdown",
   "id": "statistical-grass",
   "metadata": {},
   "source": [
    "# Breast Cancer - Random Forest Classification"
   ]
  },
  {
   "cell_type": "markdown",
   "id": "fleet-calculation",
   "metadata": {},
   "source": [
    "## Importing Libraries"
   ]
  },
  {
   "cell_type": "code",
   "execution_count": 1,
   "id": "swiss-complex",
   "metadata": {},
   "outputs": [],
   "source": [
    "import numpy as np\n",
    "import pandas as pd"
   ]
  },
  {
   "cell_type": "markdown",
   "id": "bearing-bumper",
   "metadata": {},
   "source": [
    "## Importing Dataset"
   ]
  },
  {
   "cell_type": "code",
   "execution_count": 2,
   "id": "explicit-collector",
   "metadata": {},
   "outputs": [
    {
     "data": {
      "text/html": [
       "<div>\n",
       "<style scoped>\n",
       "    .dataframe tbody tr th:only-of-type {\n",
       "        vertical-align: middle;\n",
       "    }\n",
       "\n",
       "    .dataframe tbody tr th {\n",
       "        vertical-align: top;\n",
       "    }\n",
       "\n",
       "    .dataframe thead th {\n",
       "        text-align: right;\n",
       "    }\n",
       "</style>\n",
       "<table border=\"1\" class=\"dataframe\">\n",
       "  <thead>\n",
       "    <tr style=\"text-align: right;\">\n",
       "      <th></th>\n",
       "      <th>Sample code number</th>\n",
       "      <th>Clump Thickness</th>\n",
       "      <th>Uniformity of Cell Size</th>\n",
       "      <th>Uniformity of Cell Shape</th>\n",
       "      <th>Marginal Adhesion</th>\n",
       "      <th>Single Epithelial Cell Size</th>\n",
       "      <th>Bare Nuclei</th>\n",
       "      <th>Bland Chromatin</th>\n",
       "      <th>Normal Nucleoli</th>\n",
       "      <th>Mitoses</th>\n",
       "      <th>Class</th>\n",
       "    </tr>\n",
       "  </thead>\n",
       "  <tbody>\n",
       "    <tr>\n",
       "      <th>0</th>\n",
       "      <td>1000025</td>\n",
       "      <td>5</td>\n",
       "      <td>1</td>\n",
       "      <td>1</td>\n",
       "      <td>1</td>\n",
       "      <td>2</td>\n",
       "      <td>1</td>\n",
       "      <td>3</td>\n",
       "      <td>1</td>\n",
       "      <td>1</td>\n",
       "      <td>2</td>\n",
       "    </tr>\n",
       "    <tr>\n",
       "      <th>1</th>\n",
       "      <td>1002945</td>\n",
       "      <td>5</td>\n",
       "      <td>4</td>\n",
       "      <td>4</td>\n",
       "      <td>5</td>\n",
       "      <td>7</td>\n",
       "      <td>10</td>\n",
       "      <td>3</td>\n",
       "      <td>2</td>\n",
       "      <td>1</td>\n",
       "      <td>2</td>\n",
       "    </tr>\n",
       "    <tr>\n",
       "      <th>2</th>\n",
       "      <td>1015425</td>\n",
       "      <td>3</td>\n",
       "      <td>1</td>\n",
       "      <td>1</td>\n",
       "      <td>1</td>\n",
       "      <td>2</td>\n",
       "      <td>2</td>\n",
       "      <td>3</td>\n",
       "      <td>1</td>\n",
       "      <td>1</td>\n",
       "      <td>2</td>\n",
       "    </tr>\n",
       "    <tr>\n",
       "      <th>3</th>\n",
       "      <td>1016277</td>\n",
       "      <td>6</td>\n",
       "      <td>8</td>\n",
       "      <td>8</td>\n",
       "      <td>1</td>\n",
       "      <td>3</td>\n",
       "      <td>4</td>\n",
       "      <td>3</td>\n",
       "      <td>7</td>\n",
       "      <td>1</td>\n",
       "      <td>2</td>\n",
       "    </tr>\n",
       "    <tr>\n",
       "      <th>4</th>\n",
       "      <td>1017023</td>\n",
       "      <td>4</td>\n",
       "      <td>1</td>\n",
       "      <td>1</td>\n",
       "      <td>3</td>\n",
       "      <td>2</td>\n",
       "      <td>1</td>\n",
       "      <td>3</td>\n",
       "      <td>1</td>\n",
       "      <td>1</td>\n",
       "      <td>2</td>\n",
       "    </tr>\n",
       "  </tbody>\n",
       "</table>\n",
       "</div>"
      ],
      "text/plain": [
       "   Sample code number  Clump Thickness  Uniformity of Cell Size  \\\n",
       "0             1000025                5                        1   \n",
       "1             1002945                5                        4   \n",
       "2             1015425                3                        1   \n",
       "3             1016277                6                        8   \n",
       "4             1017023                4                        1   \n",
       "\n",
       "   Uniformity of Cell Shape  Marginal Adhesion  Single Epithelial Cell Size  \\\n",
       "0                         1                  1                            2   \n",
       "1                         4                  5                            7   \n",
       "2                         1                  1                            2   \n",
       "3                         8                  1                            3   \n",
       "4                         1                  3                            2   \n",
       "\n",
       "   Bare Nuclei  Bland Chromatin  Normal Nucleoli  Mitoses  Class  \n",
       "0            1                3                1        1      2  \n",
       "1           10                3                2        1      2  \n",
       "2            2                3                1        1      2  \n",
       "3            4                3                7        1      2  \n",
       "4            1                3                1        1      2  "
      ]
     },
     "execution_count": 2,
     "metadata": {},
     "output_type": "execute_result"
    }
   ],
   "source": [
    "df = pd.read_csv('breast_cancer.csv')\n",
    "df.head()"
   ]
  },
  {
   "cell_type": "code",
   "execution_count": 3,
   "id": "acknowledged-central",
   "metadata": {},
   "outputs": [],
   "source": [
    "X = df.iloc[:, 1:-1].values\n",
    "y = df.iloc[:, -1].values"
   ]
  },
  {
   "cell_type": "markdown",
   "id": "utility-slovak",
   "metadata": {},
   "source": [
    "## Split into Training Set and Test Set"
   ]
  },
  {
   "cell_type": "code",
   "execution_count": 4,
   "id": "urban-opposition",
   "metadata": {},
   "outputs": [],
   "source": [
    "from sklearn.model_selection import train_test_split\n",
    "X_train, X_test, y_train, y_test = train_test_split(X, y, test_size=0.2, random_state=0)"
   ]
  },
  {
   "cell_type": "markdown",
   "id": "failing-enforcement",
   "metadata": {},
   "source": [
    "## Training Model"
   ]
  },
  {
   "cell_type": "code",
   "execution_count": 5,
   "id": "colonial-shower",
   "metadata": {},
   "outputs": [
    {
     "data": {
      "text/plain": [
       "RandomForestClassifier(random_state=0)"
      ]
     },
     "execution_count": 5,
     "metadata": {},
     "output_type": "execute_result"
    }
   ],
   "source": [
    "from sklearn.ensemble import RandomForestClassifier\n",
    "classifier = RandomForestClassifier(random_state=0)\n",
    "classifier.fit(X_train, y_train)"
   ]
  },
  {
   "cell_type": "markdown",
   "id": "korean-workplace",
   "metadata": {},
   "source": [
    "## Evaluate Model"
   ]
  },
  {
   "cell_type": "code",
   "execution_count": 6,
   "id": "monthly-checkout",
   "metadata": {},
   "outputs": [
    {
     "name": "stdout",
     "output_type": "stream",
     "text": [
      "[[84  3]\n",
      " [ 1 49]]\n",
      "accuracy score: 97.08 %\n"
     ]
    }
   ],
   "source": [
    "from sklearn.metrics import confusion_matrix, accuracy_score\n",
    "y_pred = classifier.predict(X_test)\n",
    "print(confusion_matrix(y_test, y_pred))\n",
    "print(f'accuracy score: {\"{:.2f}\".format(accuracy_score(y_test, y_pred)*100)} %')"
   ]
  },
  {
   "cell_type": "markdown",
   "id": "advised-evanescence",
   "metadata": {},
   "source": [
    "### Evaluate with k-Fold Cross Validation"
   ]
  },
  {
   "cell_type": "code",
   "execution_count": 7,
   "id": "precise-disabled",
   "metadata": {},
   "outputs": [
    {
     "name": "stdout",
     "output_type": "stream",
     "text": [
      "accuracy: 96.70 %\n",
      "standard deviation: 2.58 %\n"
     ]
    }
   ],
   "source": [
    "from sklearn.model_selection import cross_val_score\n",
    "accuracies = cross_val_score(estimator=classifier, X=X_train, y=y_train, cv=10)\n",
    "print(f'accuracy: {\"{:.2f}\".format(accuracies.mean()*100)} %')\n",
    "print(f'standard deviation: {\"{:.2f}\".format(accuracies.std()*100)} %')"
   ]
  },
  {
   "cell_type": "markdown",
   "id": "controversial-actor",
   "metadata": {},
   "source": [
    "##### 94.12 - 99.28 %"
   ]
  },
  {
   "cell_type": "markdown",
   "id": "major-composite",
   "metadata": {},
   "source": [
    "## Tuning Model"
   ]
  },
  {
   "cell_type": "code",
   "execution_count": 12,
   "id": "soviet-sierra",
   "metadata": {},
   "outputs": [
    {
     "data": {
      "text/plain": [
       "{'bootstrap': True,\n",
       " 'ccp_alpha': 0.0,\n",
       " 'class_weight': None,\n",
       " 'criterion': 'gini',\n",
       " 'max_depth': None,\n",
       " 'max_features': 'auto',\n",
       " 'max_leaf_nodes': None,\n",
       " 'max_samples': None,\n",
       " 'min_impurity_decrease': 0.0,\n",
       " 'min_impurity_split': None,\n",
       " 'min_samples_leaf': 1,\n",
       " 'min_samples_split': 2,\n",
       " 'min_weight_fraction_leaf': 0.0,\n",
       " 'n_estimators': 100,\n",
       " 'n_jobs': None,\n",
       " 'oob_score': False,\n",
       " 'random_state': 0,\n",
       " 'verbose': 0,\n",
       " 'warm_start': False}"
      ]
     },
     "execution_count": 12,
     "metadata": {},
     "output_type": "execute_result"
    }
   ],
   "source": [
    "classifier.get_params()"
   ]
  },
  {
   "cell_type": "code",
   "execution_count": 13,
   "id": "posted-executive",
   "metadata": {},
   "outputs": [
    {
     "name": "stdout",
     "output_type": "stream",
     "text": [
      "[0.0, 0.1, 0.2, 0.3, 0.4, 0.5, 0.6, 0.7, 0.8, 0.9, 1.0]\n"
     ]
    }
   ],
   "source": [
    "values = np.arange(0.0, 1.1, 0.1)\n",
    "values = [round(i, 1) for i in values]\n",
    "print(values)"
   ]
  },
  {
   "cell_type": "code",
   "execution_count": 15,
   "id": "authentic-screen",
   "metadata": {},
   "outputs": [
    {
     "name": "stdout",
     "output_type": "stream",
     "text": [
      "best accuracy: 97.62 %\n",
      "best parameters: {'criterion': 'entropy', 'min_impurity_decrease': 0.0, 'n_estimators': 80, 'random_state': 3}\n"
     ]
    }
   ],
   "source": [
    "from sklearn.model_selection import GridSearchCV\n",
    "parameters = [\n",
    "    {\n",
    "        'n_estimators': np.arange(10, 150, 10),\n",
    "        'criterion': ['gini', 'entropy'],\n",
    "        'min_impurity_decrease': values,\n",
    "        'random_state': np.arange(0, 21)\n",
    "    }\n",
    "]\n",
    "\n",
    "grid_search = GridSearchCV(\n",
    "    estimator=classifier,\n",
    "    param_grid=parameters,\n",
    "    scoring='accuracy',\n",
    "    cv=10,\n",
    "    n_jobs=-1\n",
    ")\n",
    "\n",
    "grid_search.fit(X_train, y_train)\n",
    "\n",
    "best_accuracy = grid_search.best_score_\n",
    "best_parameters = grid_search.best_params_\n",
    "print(f'best accuracy: {\"{:.2f}\".format(best_accuracy*100)} %')\n",
    "print(f'best parameters: {best_parameters}')"
   ]
  },
  {
   "cell_type": "code",
   "execution_count": 16,
   "id": "valued-phone",
   "metadata": {},
   "outputs": [
    {
     "data": {
      "text/html": [
       "<div>\n",
       "<style scoped>\n",
       "    .dataframe tbody tr th:only-of-type {\n",
       "        vertical-align: middle;\n",
       "    }\n",
       "\n",
       "    .dataframe tbody tr th {\n",
       "        vertical-align: top;\n",
       "    }\n",
       "\n",
       "    .dataframe thead th {\n",
       "        text-align: right;\n",
       "    }\n",
       "</style>\n",
       "<table border=\"1\" class=\"dataframe\">\n",
       "  <thead>\n",
       "    <tr style=\"text-align: right;\">\n",
       "      <th></th>\n",
       "      <th>mean_fit_time</th>\n",
       "      <th>std_fit_time</th>\n",
       "      <th>mean_score_time</th>\n",
       "      <th>std_score_time</th>\n",
       "      <th>param_criterion</th>\n",
       "      <th>param_min_impurity_decrease</th>\n",
       "      <th>param_n_estimators</th>\n",
       "      <th>param_random_state</th>\n",
       "      <th>params</th>\n",
       "      <th>split0_test_score</th>\n",
       "      <th>...</th>\n",
       "      <th>split3_test_score</th>\n",
       "      <th>split4_test_score</th>\n",
       "      <th>split5_test_score</th>\n",
       "      <th>split6_test_score</th>\n",
       "      <th>split7_test_score</th>\n",
       "      <th>split8_test_score</th>\n",
       "      <th>split9_test_score</th>\n",
       "      <th>mean_test_score</th>\n",
       "      <th>std_test_score</th>\n",
       "      <th>rank_test_score</th>\n",
       "    </tr>\n",
       "  </thead>\n",
       "  <tbody>\n",
       "    <tr>\n",
       "      <th>3384</th>\n",
       "      <td>0.150863</td>\n",
       "      <td>0.012353</td>\n",
       "      <td>0.008704</td>\n",
       "      <td>0.000787</td>\n",
       "      <td>entropy</td>\n",
       "      <td>0.0</td>\n",
       "      <td>80</td>\n",
       "      <td>3</td>\n",
       "      <td>{'criterion': 'entropy', 'min_impurity_decreas...</td>\n",
       "      <td>0.945455</td>\n",
       "      <td>...</td>\n",
       "      <td>1.0</td>\n",
       "      <td>0.945455</td>\n",
       "      <td>1.0</td>\n",
       "      <td>0.981481</td>\n",
       "      <td>0.962963</td>\n",
       "      <td>1.0</td>\n",
       "      <td>0.981481</td>\n",
       "      <td>0.976229</td>\n",
       "      <td>0.020026</td>\n",
       "      <td>1</td>\n",
       "    </tr>\n",
       "    <tr>\n",
       "      <th>3363</th>\n",
       "      <td>0.116020</td>\n",
       "      <td>0.011989</td>\n",
       "      <td>0.007603</td>\n",
       "      <td>0.000670</td>\n",
       "      <td>entropy</td>\n",
       "      <td>0.0</td>\n",
       "      <td>70</td>\n",
       "      <td>3</td>\n",
       "      <td>{'criterion': 'entropy', 'min_impurity_decreas...</td>\n",
       "      <td>0.945455</td>\n",
       "      <td>...</td>\n",
       "      <td>1.0</td>\n",
       "      <td>0.945455</td>\n",
       "      <td>1.0</td>\n",
       "      <td>0.981481</td>\n",
       "      <td>0.962963</td>\n",
       "      <td>1.0</td>\n",
       "      <td>0.962963</td>\n",
       "      <td>0.974377</td>\n",
       "      <td>0.020309</td>\n",
       "      <td>2</td>\n",
       "    </tr>\n",
       "    <tr>\n",
       "      <th>148</th>\n",
       "      <td>0.111600</td>\n",
       "      <td>0.004903</td>\n",
       "      <td>0.007300</td>\n",
       "      <td>0.000640</td>\n",
       "      <td>gini</td>\n",
       "      <td>0.0</td>\n",
       "      <td>80</td>\n",
       "      <td>1</td>\n",
       "      <td>{'criterion': 'gini', 'min_impurity_decrease':...</td>\n",
       "      <td>0.945455</td>\n",
       "      <td>...</td>\n",
       "      <td>1.0</td>\n",
       "      <td>0.945455</td>\n",
       "      <td>1.0</td>\n",
       "      <td>0.981481</td>\n",
       "      <td>0.962963</td>\n",
       "      <td>1.0</td>\n",
       "      <td>0.962963</td>\n",
       "      <td>0.974377</td>\n",
       "      <td>0.020309</td>\n",
       "      <td>2</td>\n",
       "    </tr>\n",
       "    <tr>\n",
       "      <th>127</th>\n",
       "      <td>0.093362</td>\n",
       "      <td>0.003063</td>\n",
       "      <td>0.006652</td>\n",
       "      <td>0.000553</td>\n",
       "      <td>gini</td>\n",
       "      <td>0.0</td>\n",
       "      <td>70</td>\n",
       "      <td>1</td>\n",
       "      <td>{'criterion': 'gini', 'min_impurity_decrease':...</td>\n",
       "      <td>0.945455</td>\n",
       "      <td>...</td>\n",
       "      <td>1.0</td>\n",
       "      <td>0.945455</td>\n",
       "      <td>1.0</td>\n",
       "      <td>0.981481</td>\n",
       "      <td>0.962963</td>\n",
       "      <td>1.0</td>\n",
       "      <td>0.962963</td>\n",
       "      <td>0.974377</td>\n",
       "      <td>0.020309</td>\n",
       "      <td>2</td>\n",
       "    </tr>\n",
       "    <tr>\n",
       "      <th>3342</th>\n",
       "      <td>0.094005</td>\n",
       "      <td>0.006942</td>\n",
       "      <td>0.006500</td>\n",
       "      <td>0.000671</td>\n",
       "      <td>entropy</td>\n",
       "      <td>0.0</td>\n",
       "      <td>60</td>\n",
       "      <td>3</td>\n",
       "      <td>{'criterion': 'entropy', 'min_impurity_decreas...</td>\n",
       "      <td>0.945455</td>\n",
       "      <td>...</td>\n",
       "      <td>1.0</td>\n",
       "      <td>0.945455</td>\n",
       "      <td>1.0</td>\n",
       "      <td>0.981481</td>\n",
       "      <td>0.962963</td>\n",
       "      <td>1.0</td>\n",
       "      <td>0.962963</td>\n",
       "      <td>0.974377</td>\n",
       "      <td>0.020309</td>\n",
       "      <td>2</td>\n",
       "    </tr>\n",
       "  </tbody>\n",
       "</table>\n",
       "<p>5 rows × 22 columns</p>\n",
       "</div>"
      ],
      "text/plain": [
       "      mean_fit_time  std_fit_time  mean_score_time  std_score_time  \\\n",
       "3384       0.150863      0.012353         0.008704        0.000787   \n",
       "3363       0.116020      0.011989         0.007603        0.000670   \n",
       "148        0.111600      0.004903         0.007300        0.000640   \n",
       "127        0.093362      0.003063         0.006652        0.000553   \n",
       "3342       0.094005      0.006942         0.006500        0.000671   \n",
       "\n",
       "     param_criterion param_min_impurity_decrease param_n_estimators  \\\n",
       "3384         entropy                         0.0                 80   \n",
       "3363         entropy                         0.0                 70   \n",
       "148             gini                         0.0                 80   \n",
       "127             gini                         0.0                 70   \n",
       "3342         entropy                         0.0                 60   \n",
       "\n",
       "     param_random_state                                             params  \\\n",
       "3384                  3  {'criterion': 'entropy', 'min_impurity_decreas...   \n",
       "3363                  3  {'criterion': 'entropy', 'min_impurity_decreas...   \n",
       "148                   1  {'criterion': 'gini', 'min_impurity_decrease':...   \n",
       "127                   1  {'criterion': 'gini', 'min_impurity_decrease':...   \n",
       "3342                  3  {'criterion': 'entropy', 'min_impurity_decreas...   \n",
       "\n",
       "      split0_test_score  ...  split3_test_score  split4_test_score  \\\n",
       "3384           0.945455  ...                1.0           0.945455   \n",
       "3363           0.945455  ...                1.0           0.945455   \n",
       "148            0.945455  ...                1.0           0.945455   \n",
       "127            0.945455  ...                1.0           0.945455   \n",
       "3342           0.945455  ...                1.0           0.945455   \n",
       "\n",
       "      split5_test_score  split6_test_score  split7_test_score  \\\n",
       "3384                1.0           0.981481           0.962963   \n",
       "3363                1.0           0.981481           0.962963   \n",
       "148                 1.0           0.981481           0.962963   \n",
       "127                 1.0           0.981481           0.962963   \n",
       "3342                1.0           0.981481           0.962963   \n",
       "\n",
       "      split8_test_score  split9_test_score  mean_test_score  std_test_score  \\\n",
       "3384                1.0           0.981481         0.976229        0.020026   \n",
       "3363                1.0           0.962963         0.974377        0.020309   \n",
       "148                 1.0           0.962963         0.974377        0.020309   \n",
       "127                 1.0           0.962963         0.974377        0.020309   \n",
       "3342                1.0           0.962963         0.974377        0.020309   \n",
       "\n",
       "      rank_test_score  \n",
       "3384                1  \n",
       "3363                2  \n",
       "148                 2  \n",
       "127                 2  \n",
       "3342                2  \n",
       "\n",
       "[5 rows x 22 columns]"
      ]
     },
     "execution_count": 16,
     "metadata": {},
     "output_type": "execute_result"
    }
   ],
   "source": [
    "df = pd.DataFrame(grid_search.cv_results_)\n",
    "df.sort_values('rank_test_score').head(5)"
   ]
  }
 ],
 "metadata": {
  "kernelspec": {
   "display_name": "Python 3",
   "language": "python",
   "name": "python3"
  },
  "language_info": {
   "codemirror_mode": {
    "name": "ipython",
    "version": 3
   },
   "file_extension": ".py",
   "mimetype": "text/x-python",
   "name": "python",
   "nbconvert_exporter": "python",
   "pygments_lexer": "ipython3",
   "version": "3.9.1"
  }
 },
 "nbformat": 4,
 "nbformat_minor": 5
}
